{
 "cells": [
  {
   "cell_type": "code",
   "execution_count": null,
   "id": "0c3e3c83",
   "metadata": {},
   "outputs": [],
   "source": [
    "Q.1. What are keywords in python? Using the keyword library, print all the python keywords.\n",
    "\n",
    "Answer : Keywords are reserved words in python used to define the syntex and structure.\n",
    "    "
   ]
  },
  {
   "cell_type": "code",
   "execution_count": null,
   "id": "98c20269",
   "metadata": {},
   "outputs": [],
   "source": [
    "import keyword\n",
    "List = keyword.kwlist\n",
    "print(List)\n",
    "    "
   ]
  },
  {
   "cell_type": "code",
   "execution_count": null,
   "id": "7035cfaf",
   "metadata": {},
   "outputs": [],
   "source": [
    "Q.2. What are the rules to create variables in python?\n",
    "\n",
    "Answer : Variables should be created starting with alphabets or underscore. A variable can be created number \n",
    "        as first letter or any other special character. Variable names are case sensitive\n",
    "    \n",
    "    eg : King or _king (Correct) ; 78king (Error)\n"
   ]
  },
  {
   "cell_type": "code",
   "execution_count": null,
   "id": "9f01a274",
   "metadata": {},
   "outputs": [],
   "source": [
    "Q.3. What are the standards and conventions followed for the nomenclature of variables in\n",
    "python to improve code readability and maintainability?\n",
    "\n",
    "Answer:\n",
    "Use lowercase letters and separate words with underscores for variable and function names. \n",
    "Choose descriptive names that convey the purpose or meaning of the variable or function."
   ]
  },
  {
   "cell_type": "raw",
   "id": "0aa14d37",
   "metadata": {},
   "source": [
    "Q.4. What will happen if a keyword is used as a variable name?\n",
    "\n",
    "Answer : It'll give an error. Its invalid syntax"
   ]
  },
  {
   "cell_type": "code",
   "execution_count": null,
   "id": "8ff88fca",
   "metadata": {},
   "outputs": [],
   "source": [
    "Q.5. For what purpose def keyword is used?\n",
    "\n",
    "Answer : def is used to write a user define function.\n",
    "    e.g : def function()"
   ]
  },
  {
   "cell_type": "code",
   "execution_count": null,
   "id": "3f99657d",
   "metadata": {},
   "outputs": [],
   "source": [
    "Q.6. What is the operation of this special character ‘\\’?\n",
    "\n",
    "Answer : \"\\\" This is used to enter into the Next Line"
   ]
  },
  {
   "cell_type": "code",
   "execution_count": null,
   "id": "6c61958d",
   "metadata": {},
   "outputs": [],
   "source": [
    "Q.7. Give an example of the following conditions:\n",
    "(i) Homogeneous list = [1,2,3,4,5]\n",
    "(ii) Heterogeneous set = {\"Name\", 32, 13.6 }\n",
    "(iii) Homogeneous tuple = (\"Apple\", \"Orange\", \"Kiwi\")"
   ]
  },
  {
   "cell_type": "code",
   "execution_count": null,
   "id": "e60342bf",
   "metadata": {},
   "outputs": [],
   "source": [
    "Q.8. Explain the mutable and immutable data types with proper explanation & examples.\n",
    "\n",
    "Lists are mutalbe data types. \n",
    "eg. \n",
    "List_num = [1,2,3,4,5]\n",
    "List_num.replace(2) \n",
    "\n",
    "Tuples are immutable. No changes can be performed once a tuple is declared. only index and count of a tuple can be excuted.\n",
    "eg.\n",
    "tuple_num =(1,2,3,4,5)"
   ]
  },
  {
   "cell_type": "raw",
   "id": "b0f34563",
   "metadata": {},
   "source": [
    "Q.9. Write a code to create the given structure using only for loop.\n",
    "*\n",
    "***\n",
    "*****\n",
    "*******\n",
    "*********"
   ]
  },
  {
   "cell_type": "code",
   "execution_count": 8,
   "id": "68b480d4",
   "metadata": {},
   "outputs": [
    {
     "name": "stdout",
     "output_type": "stream",
     "text": [
      "*\n",
      "***\n",
      "*****\n",
      "*******\n",
      "*********\n"
     ]
    }
   ],
   "source": [
    "for i in range (1,10,2):\n",
    "    i = i * \"*\"\n",
    "    print(i)"
   ]
  },
  {
   "cell_type": "code",
   "execution_count": null,
   "id": "4b99e62e",
   "metadata": {},
   "outputs": [],
   "source": [
    "Q.10. Write a code to create the given structure using while loop.\n",
    "|||||||||\n",
    "|||||||\n",
    "|||||\n",
    "|||\n",
    "|"
   ]
  },
  {
   "cell_type": "code",
   "execution_count": 7,
   "id": "0d251597",
   "metadata": {},
   "outputs": [
    {
     "name": "stdout",
     "output_type": "stream",
     "text": [
      "|||||||||\n",
      "|||||||\n",
      "|||||\n",
      "|||\n",
      "|\n"
     ]
    }
   ],
   "source": [
    "Count = 9\n",
    "while Count >= 1:\n",
    "    print (Count * \"|\")\n",
    "    Count -= 2\n",
    "   \n",
    "    "
   ]
  },
  {
   "cell_type": "code",
   "execution_count": null,
   "id": "c82ce89c",
   "metadata": {},
   "outputs": [],
   "source": []
  }
 ],
 "metadata": {
  "kernelspec": {
   "display_name": "Python 3",
   "language": "python",
   "name": "python3"
  },
  "language_info": {
   "codemirror_mode": {
    "name": "ipython",
    "version": 3
   },
   "file_extension": ".py",
   "mimetype": "text/x-python",
   "name": "python",
   "nbconvert_exporter": "python",
   "pygments_lexer": "ipython3",
   "version": "3.6.13"
  }
 },
 "nbformat": 4,
 "nbformat_minor": 5
}

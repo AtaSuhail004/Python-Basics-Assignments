{
 "cells": [
  {
   "cell_type": "code",
   "execution_count": null,
   "id": "94cf22f7",
   "metadata": {},
   "outputs": [],
   "source": [
    "1. What is the role of try and exception block ?\n",
    "\n",
    "Answer:\n",
    "    To findout if there's any error in the code. try is the block of the code that might possibly have the error and \n",
    "    except block excutes and explains the error."
   ]
  },
  {
   "cell_type": "code",
   "execution_count": null,
   "id": "f4fed864",
   "metadata": {},
   "outputs": [],
   "source": [
    "2. What is the syntax for a basic try-except block?\n",
    "\n",
    "Answer:\n",
    " \n",
    "try:\n",
    "    x <= 10\n",
    "    if x == 11:\n",
    "        print('x is less than 10')\n",
    "except:\n",
    "    print('X is greater')\n",
    "        "
   ]
  },
  {
   "cell_type": "code",
   "execution_count": null,
   "id": "b6502572",
   "metadata": {},
   "outputs": [],
   "source": [
    "3. What happens if an exception occurs inside a try block and there is no matching\n",
    "except block?\n",
    "\n",
    "Answer: If there is no except block inside a try block, exception will be passed to outer try block.\n",
    "        If its not handled it throws an error with a message. "
   ]
  },
  {
   "cell_type": "code",
   "execution_count": null,
   "id": "8091dff6",
   "metadata": {},
   "outputs": [],
   "source": [
    "4. What is the difference between using a bare except block and specifying a specific\n",
    "exception type?\n",
    "\n",
    "Answer\n",
    "    With bare except block catches exceptions, certainly you don't want to catch like KeyboardInterrupt. \n",
    "    Specific exception type is always helpful to handle the error and return the program smoothly without any termination. "
   ]
  },
  {
   "cell_type": "code",
   "execution_count": null,
   "id": "ebda9513",
   "metadata": {},
   "outputs": [],
   "source": [
    "5. Can you have nested try-except blocks in Python? If yes, then give an example."
   ]
  },
  {
   "cell_type": "code",
   "execution_count": null,
   "id": "ec0c8be4",
   "metadata": {},
   "outputs": [],
   "source": [
    "a = 35\n",
    "b = 0\n",
    "try:\n",
    "    print ('Outer Block')\n",
    "    try:\n",
    "        print('Inner Block')\n",
    "        print(30/0)\n",
    "    except ZeroDivisionError:\n",
    "        print('cant do the operation')\n",
    "    finally:\n",
    "        print(\"Finally inner block\")\n",
    "            \n",
    "except:\n",
    "    print('Outer except block')\n",
    "finally:\n",
    "    print('Finally outer block')\n",
    "        "
   ]
  },
  {
   "cell_type": "code",
   "execution_count": null,
   "id": "99807498",
   "metadata": {},
   "outputs": [],
   "source": [
    "6. Can we use multiple exception blocks, if yes then give an example."
   ]
  },
  {
   "cell_type": "code",
   "execution_count": null,
   "id": "6063c46e",
   "metadata": {},
   "outputs": [],
   "source": [
    "\n",
    "try:\n",
    "    a = int(input('enter Num1 a:' ))\n",
    "    b = int(input('enter Num2 b:' ))\n",
    "    x = a / b\n",
    "    \n",
    "    print(x)\n",
    "\n",
    "except ValueError:\n",
    "    print('Please enter an integer')\n",
    "except ZeroDivisionError:\n",
    "    print('Please enter a number other than zero for denominator')\n",
    "    \n",
    "    \n"
   ]
  },
  {
   "cell_type": "code",
   "execution_count": null,
   "id": "0f72645b",
   "metadata": {},
   "outputs": [],
   "source": [
    "7. Write the reason due to which following errors are raised:\n",
    "a. EOFError  : Raised when input functions hits end of file condition \n",
    "b. FloatingPointError : Raised when floating point operation fails\n",
    "c. IndexError : Raised when the index of a object like List and Dictionay are out of range\n",
    "d. MemoryError : Raised when operation runs out of the memory\n",
    "e. OverflowErro : Raised when output of an arthematic operation is too large to express.\n",
    "f. TabError : Raised when indentation containes extra tabs and spaces\n",
    "g. ValueError : Raised when a built-in function takes the argument of same type but inappropriate value."
   ]
  },
  {
   "cell_type": "code",
   "execution_count": null,
   "id": "c2064e78",
   "metadata": {},
   "outputs": [],
   "source": [
    "8. Write code for the following given scenario and add try-exception block to it."
   ]
  },
  {
   "cell_type": "code",
   "execution_count": null,
   "id": "7546a1e3",
   "metadata": {},
   "outputs": [],
   "source": [
    "#a. Program to divide two numbers\n",
    "try:\n",
    "    x = 10 / 0\n",
    "    print(x)\n",
    "except ZeroDivisionError:\n",
    "    print('Please enter a number other than zero for denominator')"
   ]
  },
  {
   "cell_type": "code",
   "execution_count": null,
   "id": "6fe732da",
   "metadata": {},
   "outputs": [],
   "source": [
    "#b. Program to convert a string to an integer\n",
    "\n",
    "Number = input('enter a number:' )\n",
    "try:\n",
    "    Number1 = int(Number)\n",
    "    print ('your converted string:',Number1)\n",
    "except ValueError:\n",
    "    print('cannot convert to an integer')\n",
    "    \n",
    "    "
   ]
  },
  {
   "cell_type": "code",
   "execution_count": null,
   "id": "64842daa",
   "metadata": {},
   "outputs": [],
   "source": [
    "#c. Program to access an element in a list\n",
    "\n",
    "List = [1,2,3,4,5]\n",
    "try:\n",
    "    L1 = List[4]\n",
    "    print ('Element inside list:',(L1))\n",
    "    L2 = List[5]\n",
    "    \n",
    "except IndexError:\n",
    "    print('Out of Index')\n"
   ]
  },
  {
   "cell_type": "code",
   "execution_count": null,
   "id": "49f81e15",
   "metadata": {},
   "outputs": [],
   "source": [
    "#d. Program to handle a specific exception\n",
    "try:\n",
    "    import package1\n",
    "    \n",
    "except ImportError:\n",
    "        print('This library is missing')"
   ]
  },
  {
   "cell_type": "code",
   "execution_count": null,
   "id": "a809a60e",
   "metadata": {},
   "outputs": [],
   "source": [
    "#e. Program to handle any exception\n",
    "\n",
    "x = 10\n",
    "if x < 30:\n",
    "    raise Exception(\"there is an issue x is less than 30\")\n"
   ]
  },
  {
   "cell_type": "code",
   "execution_count": null,
   "id": "37540018",
   "metadata": {},
   "outputs": [],
   "source": [
    "\n"
   ]
  }
 ],
 "metadata": {
  "kernelspec": {
   "display_name": "Python 3",
   "language": "python",
   "name": "python3"
  },
  "language_info": {
   "codemirror_mode": {
    "name": "ipython",
    "version": 3
   },
   "file_extension": ".py",
   "mimetype": "text/x-python",
   "name": "python",
   "nbconvert_exporter": "python",
   "pygments_lexer": "ipython3",
   "version": "3.6.13"
  }
 },
 "nbformat": 4,
 "nbformat_minor": 5
}

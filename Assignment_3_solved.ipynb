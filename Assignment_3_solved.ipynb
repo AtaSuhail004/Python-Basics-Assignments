{
 "cells": [
  {
   "cell_type": "code",
   "execution_count": null,
   "id": "5cb6cd9f",
   "metadata": {},
   "outputs": [],
   "source": [
    "1. Why are functions advantageous to have in your programs?\n",
    "\n",
    "Answer: Functions helps the program to break in parts and perform specfic tasks. Functions helps program managable,easy to write and read."
   ]
  },
  {
   "cell_type": "code",
   "execution_count": null,
   "id": "33a00285",
   "metadata": {},
   "outputs": [],
   "source": [
    "2. When does the code in a function run: when it's specified or when it's called?\n",
    "    \n",
    "Answer:Code in a function runs, when it is called"
   ]
  },
  {
   "cell_type": "code",
   "execution_count": null,
   "id": "39f6f086",
   "metadata": {},
   "outputs": [],
   "source": [
    "3. What statement creates a function?\n",
    "\n",
    "Answer: define statement, def creats a function"
   ]
  },
  {
   "cell_type": "code",
   "execution_count": null,
   "id": "edfa8445",
   "metadata": {},
   "outputs": [],
   "source": [
    "4. What is the difference between a function and a function call?\n",
    "\n",
    "Answer: Function is a piece of code and function call executes code in function"
   ]
  },
  {
   "cell_type": "code",
   "execution_count": null,
   "id": "d1e339a9",
   "metadata": {},
   "outputs": [],
   "source": [
    "5. How many global scopes are there in a Python program? How many local scopes?\n",
    "Answer: one global scope and local scopes are created in whenever called"
   ]
  },
  {
   "cell_type": "code",
   "execution_count": null,
   "id": "a0478eae",
   "metadata": {},
   "outputs": [],
   "source": [
    "6. What happens to variables in a local scope when the function call returns?\n",
    "Answer: Variable gets destroyed when function call returns."
   ]
  },
  {
   "cell_type": "code",
   "execution_count": null,
   "id": "da2cdb82",
   "metadata": {},
   "outputs": [],
   "source": [
    "7. What is the concept of a return value? Is it possible to have a return value in an expression?\n",
    "\n",
    "Answer : Return value is the evaluation of function call. yes, return value can be part of an expression"
   ]
  },
  {
   "cell_type": "code",
   "execution_count": null,
   "id": "18c6fabb",
   "metadata": {},
   "outputs": [],
   "source": [
    "8. If a function does not have a return statement, what is the return value of a call to that function?\n",
    "\n",
    "Answer: return value of a function with out return statement is None"
   ]
  },
  {
   "cell_type": "code",
   "execution_count": null,
   "id": "70424c15",
   "metadata": {},
   "outputs": [],
   "source": [
    "9. How do you make a function variable refer to the global variable?\n",
    "\n",
    "Answer: global statement with global keyword will force a variable in function to refer to the global variable"
   ]
  },
  {
   "cell_type": "code",
   "execution_count": null,
   "id": "741e7b87",
   "metadata": {},
   "outputs": [],
   "source": [
    "10. What is the data type of None?\n",
    "Answer: None is its own datatype nonetype"
   ]
  },
  {
   "cell_type": "code",
   "execution_count": null,
   "id": "74343ac2",
   "metadata": {},
   "outputs": [],
   "source": [
    "11. What does the sentence import areallyourpetsnamederic do?\n",
    "Answer: It'll import the package if its availabe."
   ]
  },
  {
   "cell_type": "code",
   "execution_count": null,
   "id": "dde82db8",
   "metadata": {},
   "outputs": [],
   "source": [
    "12. If you had a bacon() feature in a spam module, what would you call it after importing spam?\n",
    "Answer: spam.bacon()"
   ]
  },
  {
   "cell_type": "code",
   "execution_count": null,
   "id": "f22e5e2f",
   "metadata": {},
   "outputs": [],
   "source": [
    "13. What can you do to save a programme from crashing if it encounters an error?\n",
    "Answer: try and except statement saves the programme from crashing"
   ]
  },
  {
   "cell_type": "code",
   "execution_count": null,
   "id": "ad101deb",
   "metadata": {},
   "outputs": [],
   "source": [
    "14. What is the purpose of the try clause? What is the purpose of the except clause?\n",
    "\n",
    "Answer : Try block helps to test blocks for error.\n",
    "         Except block lets us handle the error. "
   ]
  }
 ],
 "metadata": {
  "kernelspec": {
   "display_name": "Python 3",
   "language": "python",
   "name": "python3"
  },
  "language_info": {
   "codemirror_mode": {
    "name": "ipython",
    "version": 3
   },
   "file_extension": ".py",
   "mimetype": "text/x-python",
   "name": "python",
   "nbconvert_exporter": "python",
   "pygments_lexer": "ipython3",
   "version": "3.6.13"
  }
 },
 "nbformat": 4,
 "nbformat_minor": 5
}

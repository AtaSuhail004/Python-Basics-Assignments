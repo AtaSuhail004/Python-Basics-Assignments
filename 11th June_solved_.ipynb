{
 "cells": [
  {
   "cell_type": "code",
   "execution_count": null,
   "id": "91d8741c",
   "metadata": {
    "scrolled": true
   },
   "outputs": [],
   "source": [
    "1. What is a lambda function in Python, and how does it differ from a regular function?\n",
    "\n",
    "Answer: Lambda function is a anonymous function without a name. It is a single line expression, \n",
    "        can take several parameters but evaluates only one expressioin"
   ]
  },
  {
   "cell_type": "code",
   "execution_count": null,
   "id": "af15dbcd",
   "metadata": {
    "scrolled": true
   },
   "outputs": [],
   "source": [
    "2. Can a lambda function in Python have multiple arguments? If yes, how can you define and use\n",
    "them?\n",
    "Answer: Lambda function can take multiple arguments.\n",
    "    \n",
    "        "
   ]
  },
  {
   "cell_type": "code",
   "execution_count": null,
   "id": "b0ff50ee",
   "metadata": {
    "scrolled": true
   },
   "outputs": [],
   "source": [
    "Result = lambda x, y, z: x + y + z\n",
    "\n",
    "Result(4 ,5 , 6) #Multiple arguments"
   ]
  },
  {
   "cell_type": "code",
   "execution_count": null,
   "id": "b8864228",
   "metadata": {
    "scrolled": true
   },
   "outputs": [],
   "source": [
    "3. How are lambda functions typically used in Python? Provide an example use case.\n",
    "\n",
    "An iterable is essentially anything that consists of a series of values, such as characters, numbers e.t.c\n",
    "In Python, iterables include strings, lists, dictionaries, ranges, tuples, and so on. \n",
    "When working with iterables, you can use lambda functions in conjunction with two common functions: filter() and map().\n",
    "\n"
   ]
  },
  {
   "cell_type": "code",
   "execution_count": null,
   "id": "f366cf75",
   "metadata": {
    "scrolled": true
   },
   "outputs": [],
   "source": [
    "list1 = [1,2,3,4,5,6,7,8,9]\n",
    "\n",
    "list(filter(lambda x: x % 2==0, list1))"
   ]
  },
  {
   "cell_type": "code",
   "execution_count": null,
   "id": "e53d66c0",
   "metadata": {
    "scrolled": true
   },
   "outputs": [],
   "source": [
    "4. What are the advantages and limitations of lambda functions compared to regular functions in\n",
    "Python?\n",
    "\n",
    "lambda fuctions have simple syntex which is concise and readable. which makes them ideal for simple operations. \n",
    "These are restricted to singal expression and limited functionality compared to named functions"
   ]
  },
  {
   "cell_type": "code",
   "execution_count": null,
   "id": "0059b5dd",
   "metadata": {
    "scrolled": true
   },
   "outputs": [],
   "source": [
    "5. Are lambda functions in Python able to access variables defined outside of their own scope?\n",
    "Explain with an example.\n",
    "\n",
    "No lambda cant access the variables outside their scope.\n",
    "\n",
    "e.g:\n",
    "list1 = [1,2,3,4,5,6,7,8,9]\n",
    "\n",
    "list(filter(lambda x: x % 2==1, list1)) #odd numbers"
   ]
  },
  {
   "cell_type": "code",
   "execution_count": null,
   "id": "0514677f",
   "metadata": {
    "scrolled": true
   },
   "outputs": [],
   "source": [
    "6. Write a lambda function to calculate the square of a given number.\n",
    "Answer:\n",
    "square = lambda x : x**2\n",
    "print (square(6))"
   ]
  },
  {
   "cell_type": "code",
   "execution_count": null,
   "id": "6e87e4f6",
   "metadata": {
    "scrolled": true
   },
   "outputs": [],
   "source": [
    "7. Create a lambda function to find the maximum value in a list of integers.\n",
    "Answer:\n",
    "List = [3,5,67,54,32,89,90,130,78,65,45]\n",
    "\n",
    "print(max(List, key = lambda value: int(value)))\n"
   ]
  },
  {
   "cell_type": "code",
   "execution_count": null,
   "id": "67175dcc",
   "metadata": {
    "scrolled": true
   },
   "outputs": [],
   "source": [
    "8. Implement a lambda function to filter out all the even numbers from a list of integers.\n"
   ]
  },
  {
   "cell_type": "code",
   "execution_count": null,
   "id": "a9a917da",
   "metadata": {
    "scrolled": true
   },
   "outputs": [],
   "source": [
    "List1 = [3,5,67,54,32,89,90,130,78,65,45]\n",
    "\n",
    "Even_numbers = list(filter(lambda x : x % 2==0, List1))\n",
    "\n",
    "print(Even_numbers)"
   ]
  },
  {
   "cell_type": "code",
   "execution_count": null,
   "id": "b8434ba2",
   "metadata": {
    "scrolled": true
   },
   "outputs": [],
   "source": [
    "9. Write a lambda function to sort a list of strings in ascending order based on the length of each\n",
    "string."
   ]
  },
  {
   "cell_type": "code",
   "execution_count": null,
   "id": "c69dc9c8",
   "metadata": {
    "scrolled": true
   },
   "outputs": [],
   "source": [
    "String_list = ['Apple', 'Orange', 'kiwi', 'Mango', 'Bananas']\n",
    "\n",
    "String_list.sort(key=lambda x: len(x))\n",
    "\n",
    "print(String_list)"
   ]
  },
  {
   "cell_type": "code",
   "execution_count": null,
   "id": "e45e5402",
   "metadata": {
    "scrolled": true
   },
   "outputs": [],
   "source": [
    "10. Create a lambda function that takes two lists as input and returns a new list containing the\n",
    "common elements between the two lists."
   ]
  },
  {
   "cell_type": "code",
   "execution_count": null,
   "id": "f7c0741c",
   "metadata": {
    "scrolled": true
   },
   "outputs": [],
   "source": [
    "List1 = [1,2,3,4,5]\n",
    "List2 = [3,4,5,6,7]\n",
    "\n",
    "New_list = list(filter(lambda x : x in List1,List2))\n",
    "\n",
    "print(New_list)\n"
   ]
  },
  {
   "cell_type": "code",
   "execution_count": null,
   "id": "f173759f",
   "metadata": {
    "scrolled": true
   },
   "outputs": [],
   "source": []
  },
  {
   "cell_type": "code",
   "execution_count": null,
   "id": "b7a7afd5",
   "metadata": {
    "scrolled": true
   },
   "outputs": [],
   "source": [
    "11. Write a recursive function to calculate the factorial of a given positive integer."
   ]
  },
  {
   "cell_type": "code",
   "execution_count": null,
   "id": "89bc78ed",
   "metadata": {
    "scrolled": true
   },
   "outputs": [],
   "source": [
    "def factorial(n):\n",
    "    if n ==1 :\n",
    "        return 1\n",
    "    else:\n",
    "        return n * factorial(n-1)\n",
    "print(factorial(5))"
   ]
  },
  {
   "cell_type": "code",
   "execution_count": null,
   "id": "5574d810",
   "metadata": {
    "scrolled": true
   },
   "outputs": [],
   "source": [
    "12. Implement a recursive function to compute the nth Fibonacci number.\n"
   ]
  },
  {
   "cell_type": "code",
   "execution_count": null,
   "id": "1bba7543",
   "metadata": {
    "scrolled": true
   },
   "outputs": [],
   "source": [
    "def fibonnaci(n):\n",
    "    if n <= 0:\n",
    "        return 0\n",
    "    else:\n",
    "        return (n) + fibonnaci(n-1)\n",
    "print(fibonnaci(5))\n"
   ]
  },
  {
   "cell_type": "code",
   "execution_count": null,
   "id": "306eec58",
   "metadata": {
    "scrolled": true
   },
   "outputs": [],
   "source": [
    "13. Create a recursive function to find the sum of all the elements in a given list.\n"
   ]
  },
  {
   "cell_type": "code",
   "execution_count": null,
   "id": "c24fe874",
   "metadata": {
    "scrolled": true
   },
   "outputs": [],
   "source": [
    "List = [1,2,3,4,5,6,7]\n",
    "def sum_list(List):\n",
    "    if len(List) == 1:\n",
    "        return List[0]\n",
    "    else:\n",
    "        return List[0] + sum_list(List[1:])\n",
    "\n",
    "\n",
    "print(sum_list(List))\n",
    "      \n",
    "        \n",
    "        "
   ]
  },
  {
   "cell_type": "code",
   "execution_count": null,
   "id": "ce05cf71",
   "metadata": {},
   "outputs": [],
   "source": [
    "14. Write a recursive function to determine whether a given string is a palindrome."
   ]
  },
  {
   "cell_type": "code",
   "execution_count": null,
   "id": "8a5aa235",
   "metadata": {
    "scrolled": true
   },
   "outputs": [],
   "source": [
    "def palindrome(Name):\n",
    "        if len(Name) < 1:\n",
    "            return True\n",
    "        elif Name[0] == Name[-1]:\n",
    "            return palindrome(Name[1:-1])\n",
    "        else:\n",
    "            return False\n",
    "#input\n",
    "Word=input(\"Enter word : \") \n",
    "word1 = Word.upper()\n",
    "if palindrome(word1)==True: \n",
    "    print(\"It is a palindrome.\") \n",
    "else: \n",
    "    print(\"It's not a palindrome.\")"
   ]
  },
  {
   "cell_type": "code",
   "execution_count": null,
   "id": "547dfccb",
   "metadata": {
    "scrolled": true
   },
   "outputs": [],
   "source": [
    "15. Implement a recursive function to find the greatest common divisor (GCD) of two positive integers."
   ]
  },
  {
   "cell_type": "code",
   "execution_count": null,
   "id": "d984163b",
   "metadata": {},
   "outputs": [],
   "source": [
    "def GCD(x, y):\n",
    "    if y == 0:\n",
    "        return x\n",
    "    else:\n",
    "        return GCD(y,x % y)\n",
    "result=GCD(98,76)\n",
    "print(result)"
   ]
  },
  {
   "cell_type": "code",
   "execution_count": null,
   "id": "db62f5b0",
   "metadata": {},
   "outputs": [],
   "source": []
  },
  {
   "cell_type": "code",
   "execution_count": null,
   "id": "2364b7a9",
   "metadata": {},
   "outputs": [],
   "source": []
  },
  {
   "cell_type": "code",
   "execution_count": null,
   "id": "98a0a49f",
   "metadata": {},
   "outputs": [],
   "source": []
  }
 ],
 "metadata": {
  "kernelspec": {
   "display_name": "Python 3",
   "language": "python",
   "name": "python3"
  },
  "language_info": {
   "codemirror_mode": {
    "name": "ipython",
    "version": 3
   },
   "file_extension": ".py",
   "mimetype": "text/x-python",
   "name": "python",
   "nbconvert_exporter": "python",
   "pygments_lexer": "ipython3",
   "version": "3.6.13"
  }
 },
 "nbformat": 4,
 "nbformat_minor": 5
}

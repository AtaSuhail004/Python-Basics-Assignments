{
 "cells": [
  {
   "cell_type": "code",
   "execution_count": null,
   "id": "2ddafbe7",
   "metadata": {},
   "outputs": [],
   "source": [
    "1. Why are functions advantageous to have in your programs?\n",
    "\n",
    "Answer: Functions helps the program to break in parts and perform specfic tasks. Functions helps program managable,easy to write and read."
   ]
  },
  {
   "cell_type": "code",
   "execution_count": null,
   "id": "e2f96995",
   "metadata": {},
   "outputs": [],
   "source": [
    "2. When does the code in a function run: when it's specified or when it's called?\n",
    "    \n",
    "Answer:Code in a function runs, when it is called"
   ]
  },
  {
   "cell_type": "code",
   "execution_count": null,
   "id": "083e8e9a",
   "metadata": {},
   "outputs": [],
   "source": [
    "3. What statement creates a function?\n",
    "\n",
    "Answer: define statement, def creats a function. e.g def Names()"
   ]
  },
  {
   "cell_type": "code",
   "execution_count": null,
   "id": "59901cb4",
   "metadata": {},
   "outputs": [],
   "source": [
    "4. What is the difference between a function and a function call?\n",
    "\n",
    "Answer: Function is a piece of code and function call executes code in function"
   ]
  },
  {
   "cell_type": "code",
   "execution_count": null,
   "id": "5dc1b57a",
   "metadata": {},
   "outputs": [],
   "source": [
    "5. How many global scopes are there in a Python program? How many local scopes?\n",
    "Answer: one global scope is created in python program. local scopes are created whenever called"
   ]
  },
  {
   "cell_type": "code",
   "execution_count": null,
   "id": "de9db4aa",
   "metadata": {},
   "outputs": [],
   "source": [
    "6. What happens to variables in a local scope when the function call returns?\n",
    "Answer: Variable gets destroyed when function call returns."
   ]
  },
  {
   "cell_type": "code",
   "execution_count": null,
   "id": "d825574b",
   "metadata": {},
   "outputs": [],
   "source": [
    "7. What is the concept of a return value? Is it possible to have a return value in an expression?\n",
    "\n",
    "Answer : Return value is the evaluation of function call. yes, return value can be part of an expression"
   ]
  },
  {
   "cell_type": "code",
   "execution_count": null,
   "id": "72b871ba",
   "metadata": {},
   "outputs": [],
   "source": [
    "8. If a function does not have a return statement, what is the return value of a call to that function?\n",
    "\n",
    "Answer: return value of a function with out return statement is None"
   ]
  },
  {
   "cell_type": "code",
   "execution_count": null,
   "id": "66c769a9",
   "metadata": {},
   "outputs": [],
   "source": [
    "9. How do you make a function variable refer to the global variable?\n",
    "\n",
    "Answer: global statement with global keyword will force a variable in function to refer to the global variable"
   ]
  },
  {
   "cell_type": "code",
   "execution_count": null,
   "id": "1ad45c5c",
   "metadata": {},
   "outputs": [],
   "source": [
    "10. What is the data type of None?\n",
    "Answer: None is its own datatype nonetype"
   ]
  },
  {
   "cell_type": "code",
   "execution_count": null,
   "id": "b746327c",
   "metadata": {},
   "outputs": [],
   "source": [
    "11. What does the sentence import areallyourpetsnamederic do?\n",
    "Answer: It'll import the package if its availabe."
   ]
  },
  {
   "cell_type": "code",
   "execution_count": null,
   "id": "215c22fc",
   "metadata": {},
   "outputs": [],
   "source": [
    "12. If you had a bacon() feature in a spam module, what would you call it after importing spam?\n",
    "Answer: spam.bacon()"
   ]
  },
  {
   "cell_type": "code",
   "execution_count": null,
   "id": "1876c3ed",
   "metadata": {},
   "outputs": [],
   "source": [
    "13. What can you do to save a programme from crashing if it encounters an error?\n",
    "Answer: try and except statement saves the programme from crashing"
   ]
  },
  {
   "cell_type": "code",
   "execution_count": null,
   "id": "713bf109",
   "metadata": {},
   "outputs": [],
   "source": [
    "14. What is the purpose of the try clause? What is the purpose of the except clause?\n",
    "\n",
    "Answer : Try block helps to test blocks for error.\n",
    "         Except block lets us handle the error. "
   ]
  }
 ],
 "metadata": {
  "kernelspec": {
   "display_name": "Python 3",
   "language": "python",
   "name": "python3"
  },
  "language_info": {
   "codemirror_mode": {
    "name": "ipython",
    "version": 3
   },
   "file_extension": ".py",
   "mimetype": "text/x-python",
   "name": "python",
   "nbconvert_exporter": "python",
   "pygments_lexer": "ipython3",
   "version": "3.6.13"
  }
 },
 "nbformat": 4,
 "nbformat_minor": 5
}

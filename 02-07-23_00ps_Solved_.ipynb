{
 "cells": [
  {
   "cell_type": "code",
   "execution_count": null,
   "id": "b3c2b09b",
   "metadata": {},
   "outputs": [],
   "source": [
    "1. Explain what inheritance is in object-oriented programming and why it is used.\n",
    "\n",
    "OOP Inheritance is a Parent-Child mechanism which helps to inherit the properties of another class. It is the fundamental \n",
    "concept which establishes the relation between classes for Reusability."
   ]
  },
  {
   "cell_type": "code",
   "execution_count": null,
   "id": "b3734cad",
   "metadata": {},
   "outputs": [],
   "source": [
    "2. Discuss the concept of single inheritance and multiple inheritance, highlighting their\n",
    "differences and advantages.\n",
    "\n",
    "Single inheritance can only inherit attributes and methods from a single parent class. single inheritance is a \n",
    "strict hierarcy where each subclass is related to its superclass. \n",
    "\n",
    "Multiple inheritance on the other hand allows a subclass to inherit from more than one superclass.\n"
   ]
  },
  {
   "cell_type": "code",
   "execution_count": null,
   "id": "ab0d4045",
   "metadata": {},
   "outputs": [],
   "source": [
    "3. Explain the terms \"base class\" and \"derived class\" in the context of inheritance.\n",
    "\n",
    "The class whose members are inherited are known as base class. The class that inherits the members of the \n",
    "base class are known as derived class."
   ]
  },
  {
   "cell_type": "code",
   "execution_count": null,
   "id": "4e6fb826",
   "metadata": {},
   "outputs": [],
   "source": [
    "4. What is the significance of the \"protected\" access modifier in inheritance? How does\n",
    "it differ from \"private\" and \"public\" modifiers?\n",
    "\n",
    "The access modifier that can be accessed within the package and outside the package only by class inheritance is \n",
    "protected modifier. It has more accessibility than private modifier and less visibility than public modofier "
   ]
  },
  {
   "cell_type": "code",
   "execution_count": null,
   "id": "2812da82",
   "metadata": {},
   "outputs": [],
   "source": [
    "#5. What is the purpose of the \"super\" keyword in inheritance? Provide an example.\n",
    "\n",
    "'''super keyword is used by a child class to inherit the member from parent class.'''\n",
    "\n",
    " #Example:\n",
    "\n",
    "    class Vehicle:\n",
    "        def __init__(self, name):\n",
    "            self.name = name\n",
    "        pass\n",
    "    class Car(Vehicle):\n",
    "        def __init__(self, name, Brand):\n",
    "            super().__init__(name)\n",
    "            self.Brand = Brand"
   ]
  },
  {
   "cell_type": "code",
   "execution_count": null,
   "id": "1d827f11",
   "metadata": {},
   "outputs": [],
   "source": [
    "6. Create a base class called \"Vehicle\" with attributes like \"make\", \"model\", and \"year\".\n",
    "Then, create a derived class called \"Car\" that inherits from \"Vehicle\" and adds an\n",
    "attribute called \"fuel_type\". Implement appropriate methods in both classes."
   ]
  },
  {
   "cell_type": "code",
   "execution_count": null,
   "id": "4b2d13d5",
   "metadata": {},
   "outputs": [],
   "source": [
    "class Vehicle:\n",
    "    def __init__(self, make, model, year):\n",
    "        self.make = make\n",
    "        self.model = model\n",
    "        self.year = year\n",
    "        \n",
    "    def display_info(self):\n",
    "        print(f'Brand of the vehicle: {self.make}\\n model of the vehicle: {self.model}\\n Model year :{self.year}')\n",
    "\n",
    "class Car(Vehicle):\n",
    "    def __init__(self, make ,model, year, fuel_type):\n",
    "        super().__init__(make, model, year)\n",
    "        self.fuel_type = fuel_type\n",
    "    \n",
    "    def display_info(self):\n",
    "        print(f' Inherited attributes from parent class: \\n Make: {self.make}\\n Model: {self.model}\\n Year: {self.year}\\n New added attribute in this child class \\n fuel type: {self.fuel_type}')\n",
    "        \n",
    "        \n",
    "        \n",
    "        \n",
    "        "
   ]
  },
  {
   "cell_type": "code",
   "execution_count": null,
   "id": "8a7615cf",
   "metadata": {},
   "outputs": [],
   "source": [
    "vehicle1 = Vehicle('BMW', 'X6', 2021)\n",
    "vehicle1.display_info()"
   ]
  },
  {
   "cell_type": "code",
   "execution_count": null,
   "id": "a236ddb9",
   "metadata": {},
   "outputs": [],
   "source": [
    "Car1 = Car('Tata', 'Harrier', 2022, 'Diesel')\n",
    "Car1.display_info()"
   ]
  },
  {
   "cell_type": "code",
   "execution_count": null,
   "id": "cf883b55",
   "metadata": {},
   "outputs": [],
   "source": [
    "7. Create a base class called \"Employee\" with attributes like \"name\" and \"salary.\"\n",
    "Derive two classes, \"Manager\" and \"Developer,\" from \"Employee.\" Add an additional\n",
    "attribute called \"department\" for the \"Manager\" class and \"programming_language\"\n",
    "for the \"Developer\" class."
   ]
  },
  {
   "cell_type": "code",
   "execution_count": 41,
   "id": "476888d8",
   "metadata": {},
   "outputs": [],
   "source": [
    "class Employee:\n",
    "    def __init__(self, name, salary):\n",
    "        self.name = name\n",
    "        self.salary = salary\n",
    "        \n",
    "    def display_info(self):\n",
    "        print(f'Name of the employee is {self.name} and salary: {self.salary}')\n",
    "        \n",
    "class Manager(Employee):\n",
    "    def __init__(self, name, salary, department):\n",
    "        super().__init__(name, salary)\n",
    "        self.department = department\n",
    "        \n",
    "    def display_info(self):\n",
    "        super().display_info()\n",
    "        print(f'Department of the Manager is {self.department}')\n",
    "        \n",
    "class Developer(Employee):\n",
    "    def __init__(self, name, salary, programming_language):\n",
    "        super().__init__(name, salary)\n",
    "        self.programming_language = programming_language\n",
    "        \n",
    "    def display_info(self):\n",
    "        super().display_info()\n",
    "        print(f'Programming languages used is {self.programming_language}')\n",
    "        "
   ]
  },
  {
   "cell_type": "code",
   "execution_count": 42,
   "id": "582b9c9a",
   "metadata": {},
   "outputs": [],
   "source": [
    "M1 = Manager('suh', 200000, 'EV')"
   ]
  },
  {
   "cell_type": "code",
   "execution_count": 43,
   "id": "3419c33f",
   "metadata": {},
   "outputs": [
    {
     "name": "stdout",
     "output_type": "stream",
     "text": [
      "Name of the employee is suh and salary: 200000\n",
      "Department of the Manager is EV\n"
     ]
    }
   ],
   "source": [
    "M1.display_info()"
   ]
  },
  {
   "cell_type": "code",
   "execution_count": null,
   "id": "744521bf",
   "metadata": {},
   "outputs": [],
   "source": []
  },
  {
   "cell_type": "code",
   "execution_count": null,
   "id": "b63666bc",
   "metadata": {},
   "outputs": [],
   "source": []
  },
  {
   "cell_type": "code",
   "execution_count": null,
   "id": "c031d5a4",
   "metadata": {},
   "outputs": [],
   "source": [
    "8. Design a base class called \"Shape\" with attributes like \"colour\" and \"border_width.\"\n",
    "Create derived classes, \"Rectangle\" and \"Circle,\" that inherit from \"Shape\" and add\n",
    "specific attributes like \"length\" and \"width\" for the \"Rectangle\" class and \"radius\" for\n",
    "the \"Circle\" class."
   ]
  },
  {
   "cell_type": "code",
   "execution_count": null,
   "id": "0e2c45b4",
   "metadata": {},
   "outputs": [],
   "source": [
    "class Shape:\n",
    "    def __init_(self, color, border_width):\n",
    "        self.color = color\n",
    "        self.border_width = border_width\n",
    "        \n",
    "    def display_info(self):\n",
    "         print(f'Color of the shape: {self.color}, Width of the Rectangular: {self.width}')\n",
    "        \n",
    "        \n",
    "class Rectangle(Shape):\n",
    "    def __init__(self, length, width):\n",
    "        self.length = length\n",
    "        self.width = width\n",
    "        \n",
    "    def display_info(self):\n",
    "         print(f'Length of the Rectangular: {self.length}, Width of the Rectangular: {self.width}')\n",
    "        \n",
    "        \n",
    "class Circle(Shape):\n",
    "    def __init__(self, radius):\n",
    "        self.radius = radius\n",
    "        \n",
    "    def display_info(self):\n",
    "        print(f'Radius of the circle: {self.radius}')\n",
    "        "
   ]
  },
  {
   "cell_type": "code",
   "execution_count": null,
   "id": "a4eec1a6",
   "metadata": {},
   "outputs": [],
   "source": [
    "Rect1 = Rectangle(10, 5)\n",
    "Rect1.display_info()"
   ]
  },
  {
   "cell_type": "code",
   "execution_count": null,
   "id": "719172be",
   "metadata": {},
   "outputs": [],
   "source": [
    "cir = Circle(87)\n",
    "\n",
    "cir.display_info()"
   ]
  },
  {
   "cell_type": "code",
   "execution_count": null,
   "id": "0b3a75cd",
   "metadata": {},
   "outputs": [],
   "source": [
    "9. Create a base class called \"Device\" with attributes like \"brand\" and \"model.\" Derive\n",
    "two classes, \"Phone\" and \"Tablet,\" from \"Device.\" Add specific attributes like\n",
    "\"screen_size\" for the \"Phone\" class and \"battery_capacity\" for the \"Tablet\" class."
   ]
  },
  {
   "cell_type": "code",
   "execution_count": null,
   "id": "f627c4e7",
   "metadata": {},
   "outputs": [],
   "source": [
    "class Device:\n",
    "    def __init__(self, brand, model):\n",
    "        self.brand = brand\n",
    "        self.model = model\n",
    "        \n",
    "    def display_info(self):\n",
    "        print(f'Brand of the device: {self.brand} and model: {self.model}')\n",
    "        \n",
    "        \n",
    "class Phone(Device):\n",
    "    def __init__(self, brand, model, Screen_size):\n",
    "        super().__init__(brand,model)\n",
    "        self.Screen_size = Screen_size\n",
    "        \n",
    "\n",
    "    def display_info(self):\n",
    "        super().display_info()\n",
    "        print(f'screen size of phone: {self.Screen_size}')\n",
    "    \n",
    "\n",
    "class Tablet(Device):\n",
    "    def __init__(self,brand, model, battery_capacity):\n",
    "        super().__init__(brand,model)\n",
    "        self.battery_capacity = battery_capacity\n",
    "        \n",
    "\n",
    "    def display_info(self):\n",
    "        super().display_info()\n",
    "        print(f'Battery capacity of phone: {self.battery_capacity}')\n",
    "        "
   ]
  },
  {
   "cell_type": "code",
   "execution_count": null,
   "id": "7846a2c6",
   "metadata": {},
   "outputs": [],
   "source": [
    "Phone1 = Phone('Apple', '14s', '15 Mah')\n",
    "\n",
    "Phone1.display_info()"
   ]
  },
  {
   "cell_type": "code",
   "execution_count": null,
   "id": "ecf80bf7",
   "metadata": {},
   "outputs": [],
   "source": [
    "10. Create a base class called \"BankAccount\" with attributes like \"account_number\" and\n",
    "\"balance.\" Derive two classes, \"SavingsAccount\" and \"CheckingAccount,\" from\n",
    "\"BankAccount.\" Add specific methods like \"calculate_interest\" for the\n",
    "\"SavingsAccount\" class and \"deduct_fees\" for the \"CheckingAccount\" class."
   ]
  },
  {
   "cell_type": "code",
   "execution_count": 27,
   "id": "73ab6312",
   "metadata": {},
   "outputs": [],
   "source": [
    "class BankAccount:\n",
    "    def __init__(self, account_number, balance):\n",
    "        self.account_number = account_number\n",
    "        self.balance = balance\n",
    "\n",
    "        \n",
    "class SavingsAccount(BankAccount):\n",
    "    def __init__(self, balance):\n",
    "        self.balance = balance\n",
    "        \n",
    "        \n",
    "    def calculate_interest(self, balance):\n",
    "        interest = self.balance * 0.08\n",
    "        print(f'interst for the saving accout is Rs. {interest} per annum')\n",
    "        \n",
    "class CheckingAccount(BankAccount):  \n",
    "   \n",
    "    def __init__(self,balance):\n",
    "        self.balance = balance\n",
    "    \n",
    "    def deduct_fee(self, charge):\n",
    "        if self.balance > charge:\n",
    "            self.balance = self.balance - charge\n",
    "            print(f'Total balance in the account after deduction : {self.balance}')\n",
    "        \n",
    "        else:\n",
    "            print(f'No balance to check your account')\n",
    "            \n",
    "        "
   ]
  },
  {
   "cell_type": "code",
   "execution_count": 28,
   "id": "c14e16fd",
   "metadata": {},
   "outputs": [],
   "source": [
    "bank1 = BankAccount(45653738, 1000)"
   ]
  },
  {
   "cell_type": "code",
   "execution_count": 29,
   "id": "ac886b3f",
   "metadata": {},
   "outputs": [],
   "source": [
    "SavingsAccount1 = SavingsAccount(1000)"
   ]
  },
  {
   "cell_type": "code",
   "execution_count": 30,
   "id": "4640334d",
   "metadata": {},
   "outputs": [
    {
     "name": "stdout",
     "output_type": "stream",
     "text": [
      "interst for the saving accout is Rs. 80.0 per annum\n"
     ]
    }
   ],
   "source": [
    "SavingsAccount1.calculate_interest(1000)"
   ]
  },
  {
   "cell_type": "code",
   "execution_count": 37,
   "id": "874a4d01",
   "metadata": {},
   "outputs": [],
   "source": [
    "check = CheckingAccount(500)"
   ]
  },
  {
   "cell_type": "code",
   "execution_count": 38,
   "id": "47df7370",
   "metadata": {},
   "outputs": [
    {
     "name": "stdout",
     "output_type": "stream",
     "text": [
      "Total balance in the account after deduction : 450\n"
     ]
    }
   ],
   "source": [
    "check.deduct_fee(50)"
   ]
  },
  {
   "cell_type": "code",
   "execution_count": null,
   "id": "2a8d3507",
   "metadata": {},
   "outputs": [],
   "source": []
  }
 ],
 "metadata": {
  "kernelspec": {
   "display_name": "Python 3",
   "language": "python",
   "name": "python3"
  },
  "language_info": {
   "codemirror_mode": {
    "name": "ipython",
    "version": 3
   },
   "file_extension": ".py",
   "mimetype": "text/x-python",
   "name": "python",
   "nbconvert_exporter": "python",
   "pygments_lexer": "ipython3",
   "version": "3.6.13"
  }
 },
 "nbformat": 4,
 "nbformat_minor": 5
}

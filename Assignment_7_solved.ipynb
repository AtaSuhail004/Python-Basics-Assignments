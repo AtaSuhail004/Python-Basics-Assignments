{
 "cells": [
  {
   "cell_type": "code",
   "execution_count": null,
   "id": "14b5f9ef",
   "metadata": {
    "scrolled": true
   },
   "outputs": [],
   "source": [
    "Q.1. Create two int type variables, apply addition, subtraction, division and multiplications\n",
    "and store the results in variables. Then print the data in the following format by calling the\n",
    "variables:\n",
    "First variable is __ & second variable is __.\n",
    "Addition: __ + __ = __\n",
    "Subtraction: __ - __ = __\n",
    "Multiplication: __ * __ = __\n",
    "Division: __ / __ = __"
   ]
  },
  {
   "cell_type": "code",
   "execution_count": null,
   "id": "3be85790",
   "metadata": {
    "scrolled": true
   },
   "outputs": [],
   "source": [
    "#Answer: \n",
    "A = int(input(\"Choose num1:\" ))\n",
    "B = int(input(\"Choose num2:\"))\n",
    "\n",
    "Add = A + B\n",
    "Sub = A - B\n",
    "Mult = A * B\n",
    "Div = A / B\n",
    "\n",
    "print (\"First variable is:\", A ,\"&\" \" second variable is:\", B)\n",
    "print (\"Addition:\", A , \"+\", B, '=', Add)\n",
    "print (\"Subraction:\", A , \"-\", B, '=', Sub)\n",
    "print (\"Multiplication:\", A , \"*\", B, '=', Mult)\n",
    "print (\"Division:\", A , '/', B  , '=', Div)\n"
   ]
  },
  {
   "cell_type": "code",
   "execution_count": null,
   "id": "3215f83e",
   "metadata": {
    "scrolled": true
   },
   "outputs": [],
   "source": [
    "Q.2. What is the difference between the following operators:\n",
    "(i) ‘/’ & ‘//’\n",
    "(ii) ‘**’ & ‘^’"
   ]
  },
  {
   "cell_type": "code",
   "execution_count": null,
   "id": "02b470a2",
   "metadata": {
    "scrolled": true
   },
   "outputs": [],
   "source": [
    "i) / = Division\n",
    "  // = Floor Division, rounds the result to the nearst whole number\n",
    "ii) ** = Exponential\n",
    "    ^ = bit wise XOR, The ^ operator compares each bit of the number and set it to 1 if only one is 1.\n",
    "        if both are 1 or both are 0 it is set to 0"
   ]
  },
  {
   "cell_type": "code",
   "execution_count": null,
   "id": "5704d98e",
   "metadata": {
    "scrolled": true
   },
   "outputs": [],
   "source": [
    "Q.3. List the logical operators.\n",
    "\n",
    "Answer : OR , AND and NOT are the logical operators"
   ]
  },
  {
   "cell_type": "code",
   "execution_count": null,
   "id": "6309653f",
   "metadata": {
    "scrolled": true
   },
   "outputs": [],
   "source": [
    "Q.4. Explain right shift operator and left shift operator with examples.\n",
    "\n",
    "Answer :\n",
    "    Right shift operator (>>) : Shifts the bits of the number to the right by the number of bits specified.\n",
    "        \n",
    "        eg. x = 10 #binary 1010\n",
    "            y = x >> 2 # 0010\n",
    "            print(y)\n",
    "            \n",
    "    Left shift operator (>>) : Shifts the bits of the number to the left by the number of bits specified.\n",
    "         eg. x = 10 #binary 1010\n",
    "            y = x << 2 # 0010 moves 1010 to the right\n",
    "            print(y)\n",
    "            \n",
    "        "
   ]
  },
  {
   "cell_type": "code",
   "execution_count": null,
   "id": "e1becca8",
   "metadata": {},
   "outputs": [],
   "source": [
    "Q.5. Create a list containing int type data of length 15. Then write a code to check if 10 is\n",
    "present in the list or not.\n",
    "\n"
   ]
  },
  {
   "cell_type": "code",
   "execution_count": null,
   "id": "621ceb4e",
   "metadata": {},
   "outputs": [],
   "source": [
    "List_data = [1,2,3,4,5,6,7,8,9,10,11,12,13,14]\n",
    "\n",
    "for i in List_data:\n",
    "    if i == 10:\n",
    "        print(\"10 is present in the list\")"
   ]
  },
  {
   "cell_type": "code",
   "execution_count": null,
   "id": "dad50f17",
   "metadata": {},
   "outputs": [],
   "source": []
  },
  {
   "cell_type": "code",
   "execution_count": null,
   "id": "25d9b7ca",
   "metadata": {},
   "outputs": [],
   "source": []
  },
  {
   "cell_type": "code",
   "execution_count": null,
   "id": "71847874",
   "metadata": {},
   "outputs": [],
   "source": []
  }
 ],
 "metadata": {
  "kernelspec": {
   "display_name": "Python 3",
   "language": "python",
   "name": "python3"
  },
  "language_info": {
   "codemirror_mode": {
    "name": "ipython",
    "version": 3
   },
   "file_extension": ".py",
   "mimetype": "text/x-python",
   "name": "python",
   "nbconvert_exporter": "python",
   "pygments_lexer": "ipython3",
   "version": "3.6.13"
  }
 },
 "nbformat": 4,
 "nbformat_minor": 5
}

{
 "cells": [
  {
   "cell_type": "code",
   "execution_count": null,
   "id": "00bb7705",
   "metadata": {},
   "outputs": [],
   "source": [
    "1. What is the primary goal of Object-Oriented Programming (OOP)?\n",
    "\n",
    "Answer:    \n",
    "Object oriented programming is to bind the data together as a bundle of a program as an \n",
    "'Object' and its behaviour called function or Method. Which is easy to access from any\n",
    "where in the program. It is very feasible to manipulate objects in the program rather \n",
    "using logics. This approach to programming is well-suited for programs that are large, \n",
    "complex and actively updated or maintained.\n"
   ]
  },
  {
   "cell_type": "code",
   "execution_count": null,
   "id": "8dc94015",
   "metadata": {},
   "outputs": [],
   "source": [
    "2. What is an object in Python?\n",
    "\n",
    "Answer:\n",
    "Objects are variables that contain data and functions that can be used to manipulate \n",
    "the data. The object's data can vary in type like string, integer, etc. depending on how \n",
    "it's been defined. An object is like a mini-program inside python, with its own set of\n",
    "rules and behaviors."
   ]
  },
  {
   "cell_type": "code",
   "execution_count": null,
   "id": "3d4a2221",
   "metadata": {},
   "outputs": [],
   "source": [
    "3. What is a class in Python?\n",
    "\n",
    "Answer:\n",
    "A class is a blue print of an object. which is often refered as object constructor."
   ]
  },
  {
   "cell_type": "code",
   "execution_count": null,
   "id": "bd764f8f",
   "metadata": {},
   "outputs": [],
   "source": [
    "4. What are attributes and methods in a class?\n",
    "Answer:\n",
    "Attributes are pillers of a class, which are bound with in the class. Defines the \n",
    "root name of an object.\n",
    "Methods in class are functionalities or actions that are performed on the objects."
   ]
  },
  {
   "cell_type": "code",
   "execution_count": null,
   "id": "7f96c484",
   "metadata": {},
   "outputs": [],
   "source": [
    "5. What is the difference between class variables and instance variables in Python?\n",
    "\n",
    "Class Variables(Parent) are shared across all instances of class and Instance variables are shared \n",
    "only with in the particular instance(Child)"
   ]
  },
  {
   "cell_type": "code",
   "execution_count": null,
   "id": "ef26d9d8",
   "metadata": {},
   "outputs": [],
   "source": [
    "6. What is the purpose of the self parameter in Python class methods?\n",
    "\n",
    "Self Paramater represents the particular instance or event of a class.\n",
    "which binds the attributes with given arguments\n",
    "    "
   ]
  },
  {
   "cell_type": "code",
   "execution_count": null,
   "id": "4119e971",
   "metadata": {},
   "outputs": [],
   "source": [
    "7. For a library management system, you have to design the \"Book\" class with OOP\n",
    "principles in mind. The “Book” class will have following attributes:\n",
    "a. title: Represents the title of the book.\n",
    "b. author: Represents the author(s) of the book.\n",
    "c. isbn: Represents the ISBN (International Standard Book Number) of the book.\n",
    "d. publication_year: Represents the year of publication of the book.\n",
    "e. available_copies: Represents the number of copies available for checkout.\n",
    "The class will also include the following methods:\n",
    "a. check_out(self): Decrements the available copies by one if there are copies\n",
    "available for checkout.\n",
    "b. return_book(self): Increments the available copies by one when a book is\n",
    "returned.\n",
    "c. display_book_info(self): Displays the information about the book, including its\n",
    "attributes and the number of available copies."
   ]
  },
  {
   "cell_type": "code",
   "execution_count": 47,
   "id": "191c12ea",
   "metadata": {},
   "outputs": [],
   "source": [
    "class book:\n",
    "    def __init__(self, Title, Author, ISBN, Publication_year, Available_copies):\n",
    "        self.Title = Title\n",
    "        self.Author = Author\n",
    "        self.ISBN = ISBN\n",
    "        self.Publication_year = Publication_year\n",
    "        self.Available_copies = Available_copies\n",
    "        \n",
    "    def check_out(self, out_copies):\n",
    "        if out_copies <= self.Available_copies:\n",
    "            self.Available_copies = self.Available_copies - out_copies\n",
    "            print(f'Total no.of available copies after check_out: {self.Available_copies}')\n",
    "        else:\n",
    "            print('Copies are not available')\n",
    "    def return_In(self, In_book):\n",
    "        self.Available_copies = self.Available_copies + In_book\n",
    "        print(f'Total no.of available copies after return _In: {self.Available_copies}')\n",
    "            \n",
    "    def display_book_info(self):\n",
    "        print(f\" Details of the book: \\n Titel: {self.Title}\\n Author: {self.Author}\\n ISBN: {self.ISBN}\\n publication_year : {self.Publication_year}\")\n",
    "        print(f\" No.of Available_copies: {self.Available_copies}\")    "
   ]
  },
  {
   "cell_type": "code",
   "execution_count": 48,
   "id": "49a08bb4",
   "metadata": {},
   "outputs": [],
   "source": [
    "book1 = book('Sherlock Holmes', 'Arthur Conan Doyle', 517220784, 1887, 45)"
   ]
  },
  {
   "cell_type": "code",
   "execution_count": 49,
   "id": "15498c89",
   "metadata": {},
   "outputs": [
    {
     "name": "stdout",
     "output_type": "stream",
     "text": [
      " Details of the book: \n",
      " Titel: Sherlock Holmes\n",
      " Author: Arthur Conan Doyle\n",
      " ISBN: 517220784\n",
      " publication_year : 1887\n",
      " No.of Available_copies: 45\n"
     ]
    }
   ],
   "source": [
    "book1.display_book_info()"
   ]
  },
  {
   "cell_type": "code",
   "execution_count": 50,
   "id": "c07e5d1b",
   "metadata": {},
   "outputs": [
    {
     "name": "stdout",
     "output_type": "stream",
     "text": [
      "Total no.of available copies after check_out: 38\n"
     ]
    }
   ],
   "source": [
    "book1.check_out(7)"
   ]
  },
  {
   "cell_type": "code",
   "execution_count": 51,
   "id": "7bc4e24d",
   "metadata": {},
   "outputs": [
    {
     "name": "stdout",
     "output_type": "stream",
     "text": [
      "Total no.of available copies after return _In: 40\n"
     ]
    }
   ],
   "source": [
    "book1.return_In(2)"
   ]
  },
  {
   "cell_type": "code",
   "execution_count": null,
   "id": "1929a7e9",
   "metadata": {},
   "outputs": [],
   "source": [
    "8. For a ticket booking system, you have to design the \"Ticket\" class with OOP\n",
    "principles in mind. The “Ticket” class should have the following attributes:\n",
    "a. ticket_id: Represents the unique identifier for the ticket.\n",
    "b. event_name: Represents the name of the event.\n",
    "c. event_date: Represents the date of the event.\n",
    "d. venue: Represents the venue of the event.\n",
    "e. seat_number: Represents the seat number associated with the ticket.\n",
    "f. price: Represents the price of the ticket.\n",
    "g. is_reserved: Represents the reservation status of the ticket.\n",
    "The class also includes the following methods:\n",
    "a. reserve_ticket(self): Marks the ticket as reserved if it is not already reserved.\n",
    "b. cancel_reservation(self): Cancels the reservation of the ticket if it is already\n",
    "reserved.\n",
    "c. display_ticket_info(self): Displays the information about the ticket, including its\n",
    "attributes and reservation status."
   ]
  },
  {
   "cell_type": "code",
   "execution_count": 57,
   "id": "329b2335",
   "metadata": {},
   "outputs": [],
   "source": [
    "class Ticket:\n",
    "    def __init__(self, ticket_id, event_name, event_date, venue, seat_number, price, is_reserved):\n",
    "        self.ticket_id = ticket_id\n",
    "        self.event_name = event_name\n",
    "        self.event_date = event_date\n",
    "        self.venue = venue\n",
    "        self.seat_number = seat_number\n",
    "        self.price = price\n",
    "        self.is_reserved = is_reserved\n",
    "        \n",
    "    def reserve_ticket(self):\n",
    "        if self.is_reserved != 'reserved' :\n",
    "            print(f\"your ticket {self.ticket_id}, from {self.event_name} on {self.event_date} with seat No: {self.seat_number} is reserved\")\n",
    "        else:\n",
    "            print('Your ticket has been reserved already')\n",
    "            \n",
    "    def cancel_reservation(self):\n",
    "        if self.is_reserved == 'reserved':\n",
    "            print(f\"your ticket {self.ticket_id} has been cancelled\")\n",
    "            \n",
    "            \n",
    "    def display_ticket_info(self):\n",
    "        print(f\"your ticket details No. {self.ticket_id}, from {self.event_name} on {self.event_date} with seat No: {self.seat_number}\")\n",
    "        print (f'your ticket status: {self.is_reserved}')\n",
    "        "
   ]
  },
  {
   "cell_type": "code",
   "execution_count": 61,
   "id": "ac405df8",
   "metadata": {},
   "outputs": [],
   "source": [
    "Ticket1 = Ticket(1234, 'Delhi', '12/10/23', 'Hyd', 'S3-U110', 'Rs.700', 'reserved')"
   ]
  },
  {
   "cell_type": "code",
   "execution_count": 62,
   "id": "cd50234d",
   "metadata": {},
   "outputs": [
    {
     "name": "stdout",
     "output_type": "stream",
     "text": [
      "Your ticket has been reserved already\n"
     ]
    }
   ],
   "source": [
    "Ticket1.reserve_ticket()"
   ]
  },
  {
   "cell_type": "code",
   "execution_count": 63,
   "id": "923689fd",
   "metadata": {},
   "outputs": [
    {
     "name": "stdout",
     "output_type": "stream",
     "text": [
      "your ticket 1234 has been cancelled\n"
     ]
    }
   ],
   "source": [
    "Ticket1.cancel_reservation()"
   ]
  },
  {
   "cell_type": "code",
   "execution_count": null,
   "id": "d76a2806",
   "metadata": {},
   "outputs": [],
   "source": []
  },
  {
   "cell_type": "code",
   "execution_count": null,
   "id": "2b61dd12",
   "metadata": {},
   "outputs": [],
   "source": [
    "9. You are creating a shopping cart for an e-commerce website. Using OOP to model\n",
    "the \"ShoppingCart\" functionality the class should contain following attributes and\n",
    "methods:\n",
    "a. items: Represents the list of items in the shopping cart.\n",
    "The class also includes the following methods:\n",
    "\n",
    "a. add_item(self, item): Adds an item to the shopping cart by appending it to the\n",
    "list of items.\n",
    "b. remove_item(self, item): Removes an item from the shopping cart if it exists in\n",
    "the list.\n",
    "c. view_cart(self): Displays the items currently present in the shopping cart.\n",
    "d. clear_cart(self): Clears all items from the shopping cart by reassigning an\n",
    "empty list to the items attribute."
   ]
  },
  {
   "cell_type": "code",
   "execution_count": 64,
   "id": "15309ef2",
   "metadata": {},
   "outputs": [],
   "source": [
    "class ShoppingCart:\n",
    "    def __init__(self, items):\n",
    "        self.items = items\n",
    "        \n",
    "    def add_item(self, item):\n",
    "        self.items.append(item)\n",
    "        print(f'All items in the cart: {self.items}')\n",
    "        \n",
    "    def remove_item(self, item):\n",
    "        self.items.remove(item)\n",
    "            \n",
    "    def view_cart(self):\n",
    "        print(f'Items in the shopping cart {self.items}')\n",
    "        \n",
    "    def clear_cart(self):\n",
    "        self.items.clear()\n",
    "        print(f'All items in the cart cleared : {self.items}')\n",
    "        "
   ]
  },
  {
   "cell_type": "code",
   "execution_count": 65,
   "id": "a6872d7c",
   "metadata": {},
   "outputs": [],
   "source": [
    "ShoppingCart1 = ShoppingCart(['shirt', 'Jeans', 'T-Shirt', 'Shirt1'])"
   ]
  },
  {
   "cell_type": "code",
   "execution_count": 66,
   "id": "e65a9edb",
   "metadata": {},
   "outputs": [
    {
     "name": "stdout",
     "output_type": "stream",
     "text": [
      "All items in the cart: ['shirt', 'Jeans', 'T-Shirt', 'Shirt1', 'perfume']\n",
      "<__main__.ShoppingCart object at 0x105bd6f98>\n"
     ]
    }
   ],
   "source": [
    "ShoppingCart1.add_item('perfume')\n",
    "\n",
    "print(ShoppingCart1)"
   ]
  },
  {
   "cell_type": "code",
   "execution_count": 67,
   "id": "1de586fb",
   "metadata": {},
   "outputs": [],
   "source": [
    "ShoppingCart1.remove_item('Shirt1')"
   ]
  },
  {
   "cell_type": "code",
   "execution_count": 68,
   "id": "b2affd03",
   "metadata": {},
   "outputs": [
    {
     "name": "stdout",
     "output_type": "stream",
     "text": [
      "Items in the shopping cart ['shirt', 'Jeans', 'T-Shirt', 'perfume']\n"
     ]
    }
   ],
   "source": [
    "ShoppingCart1.view_cart()"
   ]
  },
  {
   "cell_type": "code",
   "execution_count": 69,
   "id": "52f57a91",
   "metadata": {},
   "outputs": [
    {
     "name": "stdout",
     "output_type": "stream",
     "text": [
      "All items in the cart cleared : []\n"
     ]
    }
   ],
   "source": [
    "ShoppingCart1.clear_cart()"
   ]
  },
  {
   "cell_type": "code",
   "execution_count": null,
   "id": "8b1a4fe3",
   "metadata": {},
   "outputs": [],
   "source": []
  },
  {
   "cell_type": "code",
   "execution_count": null,
   "id": "fd49545a",
   "metadata": {},
   "outputs": [],
   "source": [
    "\n",
    "10. Imagine a school management system. You have to design the \"Student\" class using\n",
    "OOP concepts.The “Student” class has the following attributes:\n",
    "a. name: Represents the name of the student.\n",
    "b. age: Represents the age of the student.\n",
    "c. grade: Represents the grade or class of the student.\n",
    "d. student_id: Represents the unique identifier for the student.\n",
    "e. attendance: Represents the attendance record of the student.\n",
    "The class should also include the following methods:\n",
    "a. update_attendance(self, date, status): Updates the attendance record of the\n",
    "student for a given date with the provided status (e.g., present or absent).\n",
    "b. get_attendance(self): Returns the attendance record of the student.\n",
    "c. get_average_attendance(self): Calculates and returns the average\n",
    "attendance percentage of the student based on their attendance record."
   ]
  },
  {
   "cell_type": "code",
   "execution_count": 43,
   "id": "9ed7f12f",
   "metadata": {},
   "outputs": [],
   "source": [
    "class Student:\n",
    "    def __init__(self, name, age, grade, student_id):\n",
    "        self.name = name\n",
    "        self.age = age\n",
    "        self.grade = grade\n",
    "        self.student_id = student_id\n",
    "        self.attendance = []\n",
    "    def update_attendance(self,date,status):\n",
    "        updated_record = {\"date\" : date , \"status\": status}\n",
    "        self.attendance.append(updated_record)\n",
    "        \n",
    "        \n",
    "    def get_attendance(self):\n",
    "        print(f'Updated attendance \\n Student_Id: {self.student_id}\\n Name: {self.name}\\n Grade: {self.grade}\\n {self.attendance}')\n",
    "        \n",
    "    def get_average_attendance(self):\n",
    "        \n",
    "        list1 = [] \n",
    "        # collecting only 'present' days as a list from the record and using the length of a list as attended days\n",
    "        for i in self.attendance:\n",
    "            if i['status']=='present':\n",
    "                list1.append('present')\n",
    "        Total = len(self.attendance)\n",
    "        Attended = list1.count('present')\n",
    "        print('Total Attended days:' ,Attended)\n",
    "        print('Total No.of days:', Total)\n",
    "        result = ((Attended / Total)*100) \n",
    "        print (\"average_attendance =\" , result,'%')\n",
    "   "
   ]
  },
  {
   "cell_type": "code",
   "execution_count": 44,
   "id": "5b8a941c",
   "metadata": {},
   "outputs": [],
   "source": [
    "Student1 = Student('Alice', '28', 'A', '9534567')"
   ]
  },
  {
   "cell_type": "code",
   "execution_count": 45,
   "id": "0aa7a628",
   "metadata": {
    "scrolled": true
   },
   "outputs": [],
   "source": [
    "Student1.update_attendance('11/12/23', 'present')\n",
    "Student1.update_attendance('12/12/23', 'Absent')\n",
    "Student1.update_attendance('13/12/23', 'present')\n",
    "Student1.update_attendance('14/12/23', 'Absent')\n",
    "Student1.update_attendance('15/12/23', 'present')\n",
    "Student1.update_attendance('16/12/23', 'present')\n",
    "Student1.update_attendance('17/12/23', 'Absent')\n",
    "Student1.update_attendance('18/12/23', 'present')\n",
    "Student1.update_attendance('19/12/23', 'present')\n",
    "Student1.update_attendance('20/12/23', 'present')\n",
    "Student1.update_attendance('21/12/23', 'present')\n",
    "Student1.update_attendance('22/12/23', 'present')\n",
    "Student1.update_attendance('23/12/23', 'present')\n",
    "Student1.update_attendance('24/12/23', 'present')\n",
    "Student1.update_attendance('25/12/23', 'Absent')\n",
    "Student1.update_attendance('26/12/23', 'present')\n",
    "Student1.update_attendance('27/12/23', 'present')\n",
    "Student1.update_attendance('28/12/23', 'present')"
   ]
  },
  {
   "cell_type": "code",
   "execution_count": 46,
   "id": "aff07b83",
   "metadata": {},
   "outputs": [
    {
     "name": "stdout",
     "output_type": "stream",
     "text": [
      "Updated attendance \n",
      " Student_Id: 9534567\n",
      " Name: Alice\n",
      " Grade: A\n",
      " [{'date': '11/12/23', 'status': 'present'}, {'date': '12/12/23', 'status': 'Absent'}, {'date': '13/12/23', 'status': 'present'}, {'date': '14/12/23', 'status': 'Absent'}, {'date': '15/12/23', 'status': 'present'}, {'date': '16/12/23', 'status': 'present'}, {'date': '17/12/23', 'status': 'Absent'}, {'date': '18/12/23', 'status': 'present'}, {'date': '19/12/23', 'status': 'present'}, {'date': '20/12/23', 'status': 'present'}, {'date': '21/12/23', 'status': 'present'}, {'date': '22/12/23', 'status': 'present'}, {'date': '23/12/23', 'status': 'present'}, {'date': '24/12/23', 'status': 'present'}, {'date': '25/12/23', 'status': 'Absent'}, {'date': '26/12/23', 'status': 'present'}, {'date': '27/12/23', 'status': 'present'}, {'date': '28/12/23', 'status': 'present'}]\n"
     ]
    }
   ],
   "source": [
    "Student1.get_attendance()"
   ]
  },
  {
   "cell_type": "code",
   "execution_count": 38,
   "id": "4dca6db8",
   "metadata": {
    "scrolled": false
   },
   "outputs": [
    {
     "name": "stdout",
     "output_type": "stream",
     "text": [
      "Total Attended days: 14\n",
      "Total No.of days: 18\n",
      "average_attendance = 77.77777777777779 %\n"
     ]
    }
   ],
   "source": [
    "Student1.get_average_attendance()"
   ]
  },
  {
   "cell_type": "code",
   "execution_count": null,
   "id": "f666f551",
   "metadata": {},
   "outputs": [],
   "source": []
  },
  {
   "cell_type": "code",
   "execution_count": null,
   "id": "38ce50a6",
   "metadata": {},
   "outputs": [],
   "source": []
  },
  {
   "cell_type": "code",
   "execution_count": null,
   "id": "beef3842",
   "metadata": {},
   "outputs": [],
   "source": []
  },
  {
   "cell_type": "code",
   "execution_count": null,
   "id": "8debf504",
   "metadata": {},
   "outputs": [],
   "source": []
  },
  {
   "cell_type": "code",
   "execution_count": null,
   "id": "64e337bf",
   "metadata": {},
   "outputs": [],
   "source": []
  },
  {
   "cell_type": "code",
   "execution_count": null,
   "id": "20cabf7b",
   "metadata": {},
   "outputs": [],
   "source": []
  },
  {
   "cell_type": "code",
   "execution_count": null,
   "id": "e21e9920",
   "metadata": {},
   "outputs": [],
   "source": []
  },
  {
   "cell_type": "code",
   "execution_count": null,
   "id": "966dcd96",
   "metadata": {},
   "outputs": [],
   "source": []
  },
  {
   "cell_type": "code",
   "execution_count": null,
   "id": "1b2b1a81",
   "metadata": {
    "scrolled": true
   },
   "outputs": [],
   "source": [
    "L = [{'date': '11/12/23', 'status': 'present'}, \n",
    "     {'date': '12/12/23', 'status': 'present'}, \n",
    "     {'date': '13/12/23', 'status': 'present'}, \n",
    "     {'date': '14/12/23', 'status': 'Absent'}, \n",
    "     {'date': '15/12/23', 'status': 'present'}, \n",
    "     {'date': '16/12/23', 'status': 'present'}, \n",
    "     {'date': '17/12/23', 'status': 'Absent'}, \n",
    "     {'date': '18/12/23', 'status': 'present'}]\n",
    "\n",
    "\n",
    "\n",
    "\n"
   ]
  },
  {
   "cell_type": "code",
   "execution_count": null,
   "id": "d57cf13a",
   "metadata": {},
   "outputs": [],
   "source": [
    "list1 = []\n",
    "for i in L:\n",
    "    if i['status']=='present':\n",
    "        list1.append('present')\n",
    "        #res = list1.count('present')\n",
    "print(res)\n",
    "Total = len(L)\n",
    "Attended = list1.count('present')\n",
    "result = ((Attended / Total)*100)\n",
    "print (\"average_attendance =\" , result)"
   ]
  },
  {
   "cell_type": "code",
   "execution_count": null,
   "id": "b2992563",
   "metadata": {},
   "outputs": [],
   "source": []
  },
  {
   "cell_type": "code",
   "execution_count": null,
   "id": "d3ec0f81",
   "metadata": {},
   "outputs": [],
   "source": []
  }
 ],
 "metadata": {
  "kernelspec": {
   "display_name": "Python 3",
   "language": "python",
   "name": "python3"
  },
  "language_info": {
   "codemirror_mode": {
    "name": "ipython",
    "version": 3
   },
   "file_extension": ".py",
   "mimetype": "text/x-python",
   "name": "python",
   "nbconvert_exporter": "python",
   "pygments_lexer": "ipython3",
   "version": "3.6.13"
  }
 },
 "nbformat": 4,
 "nbformat_minor": 5
}

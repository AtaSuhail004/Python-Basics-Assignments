{
 "cells": [
  {
   "cell_type": "code",
   "execution_count": null,
   "id": "e403d8fd",
   "metadata": {},
   "outputs": [],
   "source": [
    "\n"
   ]
  },
  {
   "cell_type": "raw",
   "id": "be40d3e9",
   "metadata": {},
   "source": [
    "1. What exactly is []?\n",
    "Answer :It is a list"
   ]
  },
  {
   "cell_type": "raw",
   "id": "504b639d",
   "metadata": {},
   "source": [
    "2. In a list of values stored in a variable called spam, how would you assign the value 'hello' as the\n",
    "third value? (Assume [2, 4, 6, 8, 10] are in spam.)\n",
    "\n",
    "spam = [2,4,6,8,10]\n",
    "spam.insert(2,\"hello\")\n",
    "print(spam)"
   ]
  },
  {
   "cell_type": "raw",
   "id": "ce379370",
   "metadata": {},
   "source": [
    "'Let's pretend the spam includes the list ['a', 'b', 'c', 'd'] for the next three queries.\n",
    "\n",
    "3. What is the value of spam[int(int('3' * 2) / 11)]?\n",
    "\n",
    "spam = ['a', 'b', 'c', 'd']\n",
    "[int(int('3' * 2) / 11)]\n",
    "\n",
    "Answer : 3\n",
    "                                     \n",
    "4. What is the value of spam[-1]?\n",
    "Answer : 'd'\n",
    "    \n",
    "    \n",
    "5. What is the value of spam[:2]?\n",
    "Answer : 'a', 'b'                               "
   ]
  },
  {
   "cell_type": "raw",
   "id": "eadf7b44",
   "metadata": {},
   "source": [
    "Let's pretend bacon has the list [3.14,'cat' 11, 'cat', True ] for the next three questions.\n",
    "\n",
    "6. What is the value of bacon.index('cat')?\n",
    "bacon = [3.14,'cat', 11, 'cat', True ]\n",
    "\n",
    "Answer: Index of cat is 1\n",
    "\n",
    "7. How does bacon.append(99) change the look of the list value in bacon?\n",
    "\n",
    "Answer: bacon_list = [3.14,'cat', 11, 'cat', True, 99 ]\n",
    "\n",
    "8. How does bacon.remove('cat') change the look of the list in bacon?\n",
    "\n",
    "Answer: bacon_nlist = [3.14, 11,'cat' True ] #first occurance 'cat' will be removed"
   ]
  },
  {
   "cell_type": "raw",
   "id": "e876b45d",
   "metadata": {},
   "source": [
    "9. What are the list concatenation and list replication operators?\n",
    "Answer: \n",
    "List concatention is extending or addition of two lists\n",
    "eg:\n",
    "L1 = [1,2,3]\n",
    "L2 = [4,5,6]\n",
    "\n",
    "L1 + L2\n",
    "\n",
    "Output = [1,2,3,4,5,6]\n",
    "\n",
    "List replication is extending by number of times of the whole list itself\n",
    "\n",
    "eg:\n",
    "L1 = [1,2,3]\n",
    "\n",
    "L1 * 3 = [1, 2, 3, 1, 2, 3, 1, 2, 3]\n",
    "\n",
    "\n",
    "10. What is difference between the list methods append() and in mutablesert()?\n",
    "Answer: Append () always adds the 'element' at last index of the list.\n",
    "    insert() can add the 'element' at desired index of the list\n",
    "    \n",
    "11. What are the two methods for removing items from a list?\n",
    "Answer: 1. list.remove('item') #removes 'item' \n",
    "        2. list.pop(index) #removes item at the given index\n",
    "        \n",
    "12. Describe how list values and string values are identical.\n",
    "Answer: Lists and strings can be treated in the similar ways like index, slicing, pop e.t.c. and lists contain mixed elements like string, float, integer and lists are mutable. String contain characters and immutable. "
   ]
  },
  {
   "cell_type": "raw",
   "id": "60adf2b1",
   "metadata": {},
   "source": [
    "\n",
    "13. What's the difference between tuples and lists?\n",
    "\n",
    "Answer: tuples are mutable. Lists are not mutable\n",
    "    \n",
    "    \n",
    "14. How do you type a tuple value that only contains the integer 42?\n",
    "\n",
    "Answer: value = ('42',)\n",
    "\n",
    "15. How do you get a list values tuple form? How do you get a tuple values list form?\n",
    "\n",
    "Answer: tuple_form = tuple(list) ; List_form = list(tuple)\n",
    "\n",
    "16. Variables that 'contain' list values are not necessarily lists themselves. Instead, what do they\n",
    "contain?\n",
    "\n",
    "Answer: Variable contain references to list values, they contain strings or integer values. References will be used by vaiables to store the Mutable values \n",
    "like Lists and Dictionaries\n",
    "\n",
    "17. How do you distinguish between copy.copy() and copy.deepcopy()?\n",
    "\n",
    "Answer: \n",
    "Copy of the object when updates with any changes, affects the original Object with all the changes made.     \n",
    "Deepcopy copy of the object when updates with any changes wont affect the original Object. \n",
    "    "
   ]
  },
  {
   "cell_type": "code",
   "execution_count": null,
   "id": "c18fa9a4",
   "metadata": {},
   "outputs": [],
   "source": []
  },
  {
   "cell_type": "code",
   "execution_count": null,
   "id": "4d96f735",
   "metadata": {},
   "outputs": [],
   "source": []
  },
  {
   "cell_type": "code",
   "execution_count": null,
   "id": "90aa04ac",
   "metadata": {},
   "outputs": [],
   "source": []
  },
  {
   "cell_type": "code",
   "execution_count": null,
   "id": "3e83bc03",
   "metadata": {},
   "outputs": [],
   "source": []
  },
  {
   "cell_type": "code",
   "execution_count": null,
   "id": "dec38469",
   "metadata": {},
   "outputs": [],
   "source": []
  }
 ],
 "metadata": {
  "kernelspec": {
   "display_name": "Python 3",
   "language": "python",
   "name": "python3"
  },
  "language_info": {
   "codemirror_mode": {
    "name": "ipython",
    "version": 3
   },
   "file_extension": ".py",
   "mimetype": "text/x-python",
   "name": "python",
   "nbconvert_exporter": "python",
   "pygments_lexer": "ipython3",
   "version": "3.6.13"
  }
 },
 "nbformat": 4,
 "nbformat_minor": 5
}

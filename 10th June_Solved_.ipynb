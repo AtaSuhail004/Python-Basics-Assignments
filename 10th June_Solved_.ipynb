{
 "cells": [
  {
   "cell_type": "code",
   "execution_count": null,
   "id": "ef4b4ab8",
   "metadata": {},
   "outputs": [],
   "source": [
    "1. In Python, what is the difference between a built-in function and a user-defined function? Provide an\n",
    "example of each.\n",
    "\n",
    "Answer : Buit in functions are the functions which are already present in the python library of any data type\n",
    "        e.g list.append(), list.pop() all these are built_in function already present in python \n",
    "        \n",
    "        User_defined functions are defined by the user to perform the custom operation\n",
    "e.g:1 \n",
    "def Built_in():\n",
    "    print(\"This is user defined function\")\n",
    "Built_in() #calling the function\n",
    "            \n",
    "            \n",
    " e.g:2 \n",
    "def Addition(x, y):\n",
    "    sum = x + y\n",
    "    return sum\n",
    "result = Addition(3, 5)        \n",
    "print(result)\n",
    "            "
   ]
  },
  {
   "cell_type": "code",
   "execution_count": null,
   "id": "60721dcd",
   "metadata": {},
   "outputs": [],
   "source": [
    "2. How can you pass arguments to a function in Python? Explain the difference between positional\n",
    "arguments and keyword arguments.\n",
    "Aswer:\n",
    "To pass the keyword argument in order is not necessary. Hence output will be correct.\n",
    "e.g:\n",
    "def data(Name, age):\n",
    "    print('my name is:', Name ,\"and\",\"my Age is:\", age)\n",
    "data(age=25, Name=\"Alex\") #posotions are correct even after changes the posotions due to keywords in the Argument\n",
    "In Posotional argument position has to be correct to get the  correct output\n",
    "eg:\n",
    "def data(Name, age):\n",
    "    print('my name is:', Name ,\"and\",\"my Age is:\", age)\n",
    "data(25, \"Alex\") #outputis not correct as positions are different"
   ]
  },
  {
   "cell_type": "code",
   "execution_count": null,
   "id": "5ece99e5",
   "metadata": {},
   "outputs": [],
   "source": [
    "3. What is the purpose of the return statement in a function? Can a function have multiple return\n",
    "statements? Explain with an example.\n",
    "\n",
    "retun() is used to end the excution of function call and return the value to the caller. Function can have multiple \n",
    "return statements.\n",
    "\n",
    "e.g\n",
    "def Num(i):\n",
    "    if i%2 == 0:\n",
    "        return ('even')\n",
    "    else:\n",
    "        return ('odd')  \n",
    "result = Num(7)\n",
    "print(result)\n"
   ]
  },
  {
   "cell_type": "code",
   "execution_count": null,
   "id": "fc8f03c7",
   "metadata": {},
   "outputs": [],
   "source": [
    "4. What are lambda functions in Python? How are they different from regular functions? Provide an\n",
    "example where a lambda function can be useful.\n",
    "\n",
    "lambda function are functions which are used to perform simple operations generally in a one line code. When compared to regular function,\n",
    "The lambda functions can be used without any declaration in the namespace.\n",
    "\n",
    "fun = lambda x : x ** 2\n",
    "print(f(9))"
   ]
  },
  {
   "cell_type": "code",
   "execution_count": null,
   "id": "a9c639fd",
   "metadata": {},
   "outputs": [],
   "source": [
    "5. How does the concept of \"scope\" apply to functions in Python? Explain the difference between local\n",
    "scope and global scope.\n",
    "\n",
    "Answer: Scope is a block or body a function or lambda expression. Local scope is with in the function \n",
    "and Global scope is defined outside of the function.\n",
    "\n",
    "Greet = \"Hello\"\n",
    "def wishes():\n",
    "    Greet = \" Hi\"\n",
    "    print(\"Local\", Greet)\n",
    "wishes()\n",
    "print(\"Global\", Greet)\n",
    "\n",
    "    \n",
    "    \n"
   ]
  },
  {
   "cell_type": "code",
   "execution_count": null,
   "id": "64da72d8",
   "metadata": {},
   "outputs": [],
   "source": [
    "6. How can you use the \"return\" statement in a Python function to return multiple values?\n",
    "\n",
    "Answer:\n",
    "def Num(x, y):\n",
    "    sum = x + y\n",
    "    add = x - y\n",
    "    mult = x * y\n",
    "    return [sum, add, mult]   \n",
    "result = Num(3, 7)\n",
    "print(result)"
   ]
  },
  {
   "cell_type": "code",
   "execution_count": null,
   "id": "21307e2c",
   "metadata": {},
   "outputs": [],
   "source": [
    "7. What is the difference between the \"pass by value\" and \"pass by reference\" concepts when it\n",
    "comes to function arguments in Python?\n",
    "Answer: \n",
    "Pass by Value : When a value is passed inside a function, value will be modified only within the function. \n",
    "    When it is printed outside the function, actual vaule will be given without modification.\n",
    "    \n",
    "Pass by reference : when a reference of an object is passed into the function and apply any modifications, \n",
    "    changes will take place to the original object when printed outside.\n",
    "    \n",
    "eg:\n",
    "\n",
    "Age = 28\n",
    "List = ['1', '3', '5', '8']\n",
    "def fun(x, y):\n",
    "    x = x-2\n",
    "    y.append(10)\n",
    "    return(x, y)\n",
    "fun(Age, List)\n",
    "print(Age, List)"
   ]
  },
  {
   "cell_type": "code",
   "execution_count": null,
   "id": "61263fe9",
   "metadata": {},
   "outputs": [],
   "source": [
    "8. Create a function that can intake integer or decimal value and do following operations:\n",
    "a. Logarithmic function (log x)\n",
    "b. Exponential function (exp(x))\n",
    "c. Power function with base 2(2**x)\n",
    "d. Square root\n",
    "\n",
    "\n",
    "eg:\n",
    "import math\n",
    "\n",
    "def operations(x):\n",
    "    Log = math.log(x)\n",
    "    exp = math.exp(x)\n",
    "    PF  = math.pow(2,x)\n",
    "    SR  = math.sqrt(x)\n",
    "    \n",
    "    return (Log, exp, PF, SR)\n",
    "\n",
    "print(operations(5))"
   ]
  },
  {
   "cell_type": "code",
   "execution_count": null,
   "id": "df392bdb",
   "metadata": {},
   "outputs": [],
   "source": [
    "9. Create a function that takes a full name as an argument and returns first name and last name."
   ]
  },
  {
   "cell_type": "code",
   "execution_count": null,
   "id": "98f20904",
   "metadata": {},
   "outputs": [],
   "source": [
    "\n",
    "Answer:\n",
    "\n",
    "\n",
    "def full_name(x):\n",
    "    \n",
    "    y = x.split()\n",
    "    \n",
    "    First_name = y[0]\n",
    "    Last_name = y[1] \n",
    "\n",
    "    print('First name:', First_name)\n",
    "    print('Last name:', Last_name)\n",
    "\n",
    "full_name(input(\"Input your first name and last name:\"))\n",
    "\n",
    "\n",
    "\n"
   ]
  }
 ],
 "metadata": {
  "kernelspec": {
   "display_name": "Python 3",
   "language": "python",
   "name": "python3"
  },
  "language_info": {
   "codemirror_mode": {
    "name": "ipython",
    "version": 3
   },
   "file_extension": ".py",
   "mimetype": "text/x-python",
   "name": "python",
   "nbconvert_exporter": "python",
   "pygments_lexer": "ipython3",
   "version": "3.6.13"
  }
 },
 "nbformat": 4,
 "nbformat_minor": 5
}

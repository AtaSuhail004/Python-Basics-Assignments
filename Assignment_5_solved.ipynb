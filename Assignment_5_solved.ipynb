{
 "cells": [
  {
   "cell_type": "code",
   "execution_count": null,
   "id": "f95e2b6a",
   "metadata": {},
   "outputs": [],
   "source": [
    "1. What does an empty dictionary's code look like?\n",
    "\n",
    "Answer: Empty Dictionary, E_Dict = {}"
   ]
  },
  {
   "cell_type": "code",
   "execution_count": null,
   "id": "dc235731",
   "metadata": {},
   "outputs": [],
   "source": [
    "2. What is the value of a dictionary value with the key 'foo' and the value 42?\n",
    "Answer: Dict = {\"foo\" : 42}"
   ]
  },
  {
   "cell_type": "code",
   "execution_count": null,
   "id": "3b5f98e8",
   "metadata": {},
   "outputs": [],
   "source": [
    "3. What is the most significant distinction between a dictionary and a list?\n",
    "Answer : Dictonary consists of keys and values. List consists of only mixded values or Elements like string, characters e.t.c  "
   ]
  },
  {
   "cell_type": "code",
   "execution_count": null,
   "id": "dd340067",
   "metadata": {},
   "outputs": [],
   "source": [
    "4. What happens if you try to access spam['foo'] if spam is {'bar': 100}?\n",
    "Answer : its gives an error. As there is no such key 'foo'inside the dictionary"
   ]
  },
  {
   "cell_type": "code",
   "execution_count": null,
   "id": "3f2c929d",
   "metadata": {},
   "outputs": [],
   "source": [
    "5. If a dictionary is stored in spam, what is the difference between the expressions 'cat' in spam and\n",
    "'cat' in spam.keys()?\n",
    "Answer: \n",
    "spam = {\"cat\" : \"meow\"} \"cat\" is considered as key in this dictionary. spam.keys() gives all key values in dictionary as output.\n",
    "\n",
    "eg:\n",
    "    spam.keys()\n",
    "    output : dict_keys(['cat'])"
   ]
  },
  {
   "cell_type": "code",
   "execution_count": null,
   "id": "99ceafa3",
   "metadata": {},
   "outputs": [],
   "source": [
    "6. If a dictionary is stored in spam, what is the difference between the expressions 'cat' in spam and\n",
    "'cat' in spam.values()?\n",
    "\n",
    "spam = {\"cat\" : \"meow\"} \"cat\" is considered as key in this dictionary. spam.values() give all values in dictionary as output.\n",
    "\n",
    "eg. spam.values()\n",
    "output: dict_values(['meow'])"
   ]
  },
  {
   "cell_type": "code",
   "execution_count": null,
   "id": "522d617e",
   "metadata": {},
   "outputs": [],
   "source": [
    "7. What is a shortcut for the following code?\n",
    "\n",
    "spam = print(if \"color\" not in spam \"color\":\"black\")\n",
    "if 'color' not in spam:\n",
    "spam['color'] = 'black'\n",
    "\n",
    "Answer:\n",
    "spam = { }\n",
    "spam.update({\"color\":\"black\"}) \n",
    "    "
   ]
  },
  {
   "cell_type": "code",
   "execution_count": null,
   "id": "50ad9584",
   "metadata": {},
   "outputs": [],
   "source": [
    "#8. How do you 'pretty print' dictionary values using which module and function?\n",
    "\n",
    "Answer: pprint is the module and pprint function of this module helps to formate the data which is easy to read and interpret\n",
    "\n",
    "Data_dict ={\"d1\":{'name': 'Alice', 'Age': 25, 'City': 'NYC'}, \"d2\":{'name': 'Mark', 'Age': 28, 'City': 'LA'}}\n",
    "\n",
    "import pprint\n",
    "\n",
    "pprint.pprint(Data_dict)\n",
    "\n",
    "\n",
    "Output:\n",
    "    \n",
    "{'d1': {'Age': 25, 'City': 'NYC', 'name': 'Alice'},\n",
    " 'd2': {'Age': 28, 'City': 'LA', 'name': 'Mark'}}\n",
    "\n"
   ]
  },
  {
   "cell_type": "code",
   "execution_count": null,
   "id": "b6ffc343",
   "metadata": {},
   "outputs": [],
   "source": []
  },
  {
   "cell_type": "code",
   "execution_count": null,
   "id": "23778837",
   "metadata": {},
   "outputs": [],
   "source": []
  }
 ],
 "metadata": {
  "kernelspec": {
   "display_name": "Python 3",
   "language": "python",
   "name": "python3"
  },
  "language_info": {
   "codemirror_mode": {
    "name": "ipython",
    "version": 3
   },
   "file_extension": ".py",
   "mimetype": "text/x-python",
   "name": "python",
   "nbconvert_exporter": "python",
   "pygments_lexer": "ipython3",
   "version": "3.6.13"
  }
 },
 "nbformat": 4,
 "nbformat_minor": 5
}
